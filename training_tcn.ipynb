{
 "cells": [
  {
   "cell_type": "markdown",
   "metadata": {},
   "source": []
  },
  {
   "cell_type": "code",
   "execution_count": 1,
   "metadata": {},
   "outputs": [],
   "source": [
    "from tcn import TCN\n",
    "import numpy as np\n",
    "\n",
    "from tensorflow.keras import Input, Model\n",
    "from tensorflow.keras.layers import Dense\n",
    "import tensorflow.keras.backend as K"
   ]
  },
  {
   "cell_type": "code",
   "execution_count": 2,
   "metadata": {},
   "outputs": [],
   "source": [
    "X = np.load('X1.npy')\n",
    "y = np.load('y1.npy')"
   ]
  },
  {
   "cell_type": "code",
   "execution_count": 3,
   "metadata": {},
   "outputs": [],
   "source": [
    "def root_mean_squared_error(y_true, y_pred):\n",
    "    return K.sqrt(K.mean(K.square(y_pred - y_true)))"
   ]
  },
  {
   "cell_type": "code",
   "execution_count": 4,
   "metadata": {},
   "outputs": [],
   "source": [
    "def compile_model(swp_X, nb_filters, kernel_size, dilations, dropout_rate, y_train):\n",
    "\n",
    "    # output tcn2\n",
    "    nb_features = swp_X.shape[2]\n",
    "    nb_outputs = y_train.shape[1]\n",
    "\n",
    "    i = Input(shape=(swp_X.shape[1], nb_features))\n",
    "\n",
    "    m = TCN(nb_filters=nb_filters, kernel_size=kernel_size, dropout_rate=dropout_rate, dilations=dilations, return_sequences=True, activation='relu')(i)\n",
    "    m = TCN(nb_filters=nb_filters, dropout_rate=dropout_rate, kernel_size=kernel_size, dilations=dilations, return_sequences=False, activation='relu')(m)\n",
    "    m = Dense(nb_outputs, activation='linear')(m)\n",
    "    model = Model(inputs=[i], outputs=[m])\n",
    "    model.compile(loss=root_mean_squared_error,\n",
    "              optimizer='adam', metrics=['mae', root_mean_squared_error])\n",
    "\n",
    "    return model"
   ]
  },
  {
   "cell_type": "code",
   "execution_count": 5,
   "metadata": {},
   "outputs": [],
   "source": [
    "model = compile_model(X, nb_filters=64, kernel_size=3, dilations=[1, 2, 4, 8, 16, 32, 64], dropout_rate=0.05, y_train=y)"
   ]
  },
  {
   "cell_type": "code",
   "execution_count": 6,
   "metadata": {},
   "outputs": [
    {
     "name": "stdout",
     "output_type": "stream",
     "text": [
      "Model: \"model\"\n",
      "_________________________________________________________________\n",
      " Layer (type)                Output Shape              Param #   \n",
      "=================================================================\n",
      " input_1 (InputLayer)        [(None, 42, 5)]           0         \n",
      "                                                                 \n",
      " tcn (TCN)                   (None, 42, 64)            161984    \n",
      "                                                                 \n",
      " tcn_1 (TCN)                 (None, 64)                172928    \n",
      "                                                                 \n",
      " dense (Dense)               (None, 4)                 260       \n",
      "                                                                 \n",
      "=================================================================\n",
      "Total params: 335,172\n",
      "Trainable params: 335,172\n",
      "Non-trainable params: 0\n",
      "_________________________________________________________________\n"
     ]
    }
   ],
   "source": [
    "model.summary()"
   ]
  },
  {
   "cell_type": "code",
   "execution_count": 9,
   "metadata": {},
   "outputs": [
    {
     "name": "stdout",
     "output_type": "stream",
     "text": [
      "Epoch 1/10\n",
      "150/150 [==============================] - 7s 44ms/step - loss: 4.6764 - mae: 3.2245 - root_mean_squared_error: 4.6757 - val_loss: 8.0544 - val_mae: 5.7409 - val_root_mean_squared_error: 8.0400\n",
      "Epoch 2/10\n",
      "150/150 [==============================] - 6s 41ms/step - loss: 4.2760 - mae: 2.9690 - root_mean_squared_error: 4.2756 - val_loss: 7.3312 - val_mae: 5.2281 - val_root_mean_squared_error: 7.3287\n",
      "Epoch 3/10\n",
      "150/150 [==============================] - 6s 43ms/step - loss: 3.8394 - mae: 2.7091 - root_mean_squared_error: 3.8393 - val_loss: 6.6147 - val_mae: 4.8163 - val_root_mean_squared_error: 6.6062\n",
      "Epoch 4/10\n",
      "150/150 [==============================] - 6s 43ms/step - loss: 3.8372 - mae: 2.6940 - root_mean_squared_error: 3.8372 - val_loss: 8.9754 - val_mae: 6.1831 - val_root_mean_squared_error: 8.9547\n",
      "Epoch 5/10\n",
      "150/150 [==============================] - 7s 43ms/step - loss: 3.7690 - mae: 2.6464 - root_mean_squared_error: 3.7693 - val_loss: 9.0647 - val_mae: 6.1403 - val_root_mean_squared_error: 9.0386\n",
      "Epoch 6/10\n",
      "150/150 [==============================] - 7s 45ms/step - loss: 3.7511 - mae: 2.6221 - root_mean_squared_error: 3.7526 - val_loss: 7.0993 - val_mae: 4.9587 - val_root_mean_squared_error: 7.0852\n",
      "Epoch 7/10\n",
      "150/150 [==============================] - 6s 42ms/step - loss: 3.6354 - mae: 2.5470 - root_mean_squared_error: 3.6353 - val_loss: 8.3394 - val_mae: 5.7277 - val_root_mean_squared_error: 8.3174\n",
      "Epoch 8/10\n",
      "150/150 [==============================] - 6s 40ms/step - loss: 3.3973 - mae: 2.4057 - root_mean_squared_error: 3.3971 - val_loss: 8.5283 - val_mae: 5.8487 - val_root_mean_squared_error: 8.5033\n",
      "Epoch 9/10\n",
      "150/150 [==============================] - 7s 45ms/step - loss: 3.4954 - mae: 2.4530 - root_mean_squared_error: 3.4955 - val_loss: 7.0308 - val_mae: 4.9906 - val_root_mean_squared_error: 7.0074\n",
      "Epoch 10/10\n",
      "150/150 [==============================] - 6s 43ms/step - loss: 3.5070 - mae: 2.4547 - root_mean_squared_error: 3.5068 - val_loss: 6.9339 - val_mae: 4.8389 - val_root_mean_squared_error: 6.9157\n"
     ]
    },
    {
     "data": {
      "text/plain": [
       "<keras.callbacks.History at 0x223fe101310>"
      ]
     },
     "execution_count": 9,
     "metadata": {},
     "output_type": "execute_result"
    }
   ],
   "source": [
    "model.fit(X, y, epochs=10, batch_size=32, validation_split=0.2)"
   ]
  },
  {
   "cell_type": "code",
   "execution_count": null,
   "metadata": {},
   "outputs": [],
   "source": []
  }
 ],
 "metadata": {
  "kernelspec": {
   "display_name": "base",
   "language": "python",
   "name": "python3"
  },
  "language_info": {
   "codemirror_mode": {
    "name": "ipython",
    "version": 3
   },
   "file_extension": ".py",
   "mimetype": "text/x-python",
   "name": "python",
   "nbconvert_exporter": "python",
   "pygments_lexer": "ipython3",
   "version": "3.9.13"
  },
  "orig_nbformat": 4
 },
 "nbformat": 4,
 "nbformat_minor": 2
}
